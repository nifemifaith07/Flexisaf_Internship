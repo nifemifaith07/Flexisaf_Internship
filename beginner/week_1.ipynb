{
  "nbformat": 4,
  "nbformat_minor": 0,
  "metadata": {
    "colab": {
      "provenance": []
    },
    "kernelspec": {
      "name": "python3",
      "display_name": "Python 3"
    },
    "language_info": {
      "name": "python"
    }
  },
  "cells": [
    {
      "cell_type": "markdown",
      "source": [
        "# Game Simulation: Rock, Paper, Scissors"
      ],
      "metadata": {
        "id": "LHciMyKg_foM"
      }
    },
    {
      "cell_type": "code",
      "execution_count": null,
      "metadata": {
        "colab": {
          "base_uri": "https://localhost:8080/"
        },
        "id": "v4qu5wVg_QEV",
        "outputId": "722cd96c-111a-4848-9fbf-50af5ef5c42e"
      },
      "outputs": [
        {
          "output_type": "stream",
          "name": "stdout",
          "text": [
            "Please, enter your choice (rock, paper, or scissors): rock\n",
            "You chose rock.\n",
            "The computer chose paper.\n",
            "The computer wins!\n"
          ]
        }
      ],
      "source": [
        "import random\n",
        "\n",
        "# Define choices\n",
        "choices = ['rock', 'paper', 'scissors']\n",
        "\n",
        "# Get user choice\n",
        "user_choice = input(\"Please, enter your choice (rock, paper, or scissors): \").lower()\n",
        "\n",
        "# Validate\n",
        "if user_choice not in choices:\n",
        "  print(\"Invalid choice. Please try again.\")\n",
        "else:\n",
        "  # Generate computer choice\n",
        "  computer_choice = random.choice(choices)\n",
        "\n",
        "  # Print choices\n",
        "  print(f\"You chose {user_choice}.\")\n",
        "  print(f\"The computer chose {computer_choice}.\")\n",
        "\n",
        "  # Determine the winner\n",
        "  if user_choice == computer_choice:\n",
        "    print(\"It's a tie!\")\n",
        "  elif (user_choice == 'rock' and computer_choice == 'scissors') or \\\n",
        "       (user_choice == 'paper' and computer_choice == 'rock') or \\\n",
        "       (user_choice == 'scissors' and computer_choice == 'paper'):\n",
        "    print(\"You win!\")\n",
        "  else:\n",
        "    print(\"The computer wins!\")"
      ]
    },
    {
      "cell_type": "code",
      "source": [],
      "metadata": {
        "id": "ctumwRqVA-_4"
      },
      "execution_count": null,
      "outputs": []
    }
  ]
}